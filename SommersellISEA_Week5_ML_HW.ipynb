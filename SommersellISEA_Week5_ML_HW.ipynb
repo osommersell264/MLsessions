{
  "nbformat": 4,
  "nbformat_minor": 0,
  "metadata": {
    "colab": {
      "provenance": [],
      "include_colab_link": true
    },
    "kernelspec": {
      "name": "python3",
      "display_name": "Python 3"
    },
    "language_info": {
      "name": "python"
    }
  },
  "cells": [
    {
      "cell_type": "markdown",
      "metadata": {
        "id": "view-in-github",
        "colab_type": "text"
      },
      "source": [
        "<a href=\"https://colab.research.google.com/github/osommersell264/MLsessions/blob/main/SommersellISEA_Week5_ML_HW.ipynb\" target=\"_parent\"><img src=\"https://colab.research.google.com/assets/colab-badge.svg\" alt=\"Open In Colab\"/></a>"
      ]
    },
    {
      "cell_type": "markdown",
      "source": [
        "# Your Task: Predict Student Success\n",
        "\n",
        "The purpose of this HW is to get you hands on with real data trying out the modelling techniques we talked about.\n",
        "\n",
        "You are free to use gen-ai with this project to help with the coding (of course, you don't have to!). [Hands on Machine Learning](https://www.oreilly.com/library/view/hands-on-machine-learning/9781098125967/) is also a great resource.\n",
        "\n",
        "Your code needs to run, but I want you to focus less on the specifics of the code and more on understanding the component steps that go into building and validating a model. Creating code is now pretty easy, creating a \"good\" model is hard.\n",
        "\n",
        "For this exercise we will use open data on student dropout from Portugal. Full documentation is available [here](https://archive.ics.uci.edu/dataset/697/predict+students+dropout+and+academic+success)\n",
        "\n",
        "M.V.Martins, D. Tolledo, J. Machado, L. M.T. Baptista, V.Realinho. (2021) \"Early prediction of student’s performance in higher education: a case study\" Trends and Applications in Information Systems and Technologies, vol.1, in Advances in Intelligent Systems and Computing series. Springer. DOI: 10.1007/978-3-030-72657-7_16\n",
        "\n",
        "You will turn in on the class website a google slide deck that has:\n",
        "1. A cover slide contianing your name (and all group member names if working together) and a link to your colab (**Create slide 1 now**)\n",
        "2. 3 slides answering the questions below - they are clearly indicated as you go through the colab notebook.\n"
      ],
      "metadata": {
        "id": "0MhB7souuE8l"
      }
    },
    {
      "cell_type": "markdown",
      "source": [
        "# Get the data"
      ],
      "metadata": {
        "id": "q5hWeXbc2eK7"
      }
    },
    {
      "cell_type": "markdown",
      "source": [
        "Here I provide some code to get the data for you"
      ],
      "metadata": {
        "id": "bJd4Kju6LX7B"
      }
    },
    {
      "cell_type": "code",
      "source": [
        "!pip install ucimlrepo\n",
        "from ucimlrepo import fetch_ucirepo"
      ],
      "metadata": {
        "id": "TL-Z4gGctdTv"
      },
      "execution_count": null,
      "outputs": []
    },
    {
      "cell_type": "code",
      "source": [
        "# fetch dataset\n",
        "predict_students_dropout_and_academic_success = fetch_ucirepo(id=697)\n",
        "\n",
        "# data (as pandas dataframes)\n",
        "X = predict_students_dropout_and_academic_success.data.features\n",
        "y = predict_students_dropout_and_academic_success.data.targets\n",
        "\n",
        "# metadata\n",
        "print(predict_students_dropout_and_academic_success.metadata)\n",
        "\n",
        "# variable information\n",
        "print(predict_students_dropout_and_academic_success.variables)"
      ],
      "metadata": {
        "id": "EYQXaH6itafW"
      },
      "execution_count": null,
      "outputs": []
    },
    {
      "cell_type": "markdown",
      "source": [
        "# 1 Data Checking\n",
        "\n",
        "- Look at your outcome variable - any cases to exclude?\n",
        "- Determine the base-rate accuracy for a naive model\n",
        "- Create Test and Training Sets\n",
        "- Look at distributions of x variables, look up meta data, decide which to include\n",
        "\n",
        "At the end of this section you should have\n",
        "`x_train`, `x_text`, `y_train`, `y_test`\n",
        "And an estimate of the base rate accuracy."
      ],
      "metadata": {
        "id": "DwkrBnDEwtI3"
      }
    },
    {
      "cell_type": "code",
      "source": [],
      "metadata": {
        "id": "FB5j4I-xwsEB"
      },
      "execution_count": null,
      "outputs": []
    },
    {
      "cell_type": "markdown",
      "source": [
        "# 2 Train a Model\n",
        "* Pick one of the models we discussed today and train it.\n",
        "* Report its accuracy and print a confusion matrix.\n",
        "   * How much better is your model than the base rate?\n",
        "   * How does accuracy on the train set compare to accuracy on the test set?\n",
        "   * **Report Slide 2: Include an image of the confusion matrix, the base rate accuracy, train-set accuracy and test-set accuracy**"
      ],
      "metadata": {
        "id": "x0Rxs5oOxEhp"
      }
    },
    {
      "cell_type": "code",
      "source": [],
      "metadata": {
        "id": "r8H9DxK7xdGx"
      },
      "execution_count": null,
      "outputs": []
    },
    {
      "cell_type": "markdown",
      "source": [
        "# 3 Train a Different Model\n",
        "* Repeat all the steps in 2, but use a different model\n",
        "* In addition, compare the accuracy of 1 and 2\n",
        "* **Report Slide 3: Model 2 confusion matrix, train-set accuracy and test-set accuracy. Comparison Model 1 and Model 2 accuracy**"
      ],
      "metadata": {
        "id": "yBAw-iRRxeAT"
      }
    },
    {
      "cell_type": "code",
      "source": [],
      "metadata": {
        "id": "5RFrV7VOx33n"
      },
      "execution_count": null,
      "outputs": []
    },
    {
      "cell_type": "markdown",
      "source": [
        "# 4 Reflection\n",
        "* **Type responses on Slide 4**\n",
        "* Contextualizing accuracy - think about different use cases for your model, which ones would you feel its accurate enough to use for? I only asked you to look at overall accuracy, is that good enough?\n",
        "* Contextualizing features - think about these same use cases, are the prediction features you included appropriate for these uses?\n",
        "* Generalizability - again thinking about your features, could you use this model in other educational contexts? How hard would it be to get that same data? Are there issues with it generalizing over time and location?"
      ],
      "metadata": {
        "id": "lHlWSfEIx9na"
      }
    },
    {
      "cell_type": "markdown",
      "source": [
        "# 5 Extra Credit\n",
        "* Consider ensembling your two models. Does that perform better?\n",
        "* Check accuracy for different subgroups"
      ],
      "metadata": {
        "id": "th7YsFJJ1ilE"
      }
    }
  ]
}